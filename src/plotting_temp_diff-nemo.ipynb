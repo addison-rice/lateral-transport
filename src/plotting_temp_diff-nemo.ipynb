{
 "cells": [
  {
   "cell_type": "code",
   "execution_count": 1,
   "metadata": {},
   "outputs": [],
   "source": [
    "import pandas as pd\n",
    "import numpy as np\n",
    "import math\n",
    "import matplotlib.pyplot as plt\n",
    "import cartopy.crs as ccrs\n",
    "from netCDF4 import Dataset as netcdf_dataset\n",
    "import matplotlib.colors as colors\n",
    "import cmocean"
   ]
  },
  {
   "cell_type": "code",
   "execution_count": 2,
   "metadata": {},
   "outputs": [],
   "source": [
    "file_location = '../data/temp/'\n",
    "figure_location = '../results/figures/'\n",
    "\n",
    "uk_annual = pd.read_csv(file_location+\"uk37_ann_nemo_to_plot.csv\")\n",
    "uk_winter = pd.read_csv(file_location+\"uk37_nov_may_nemo_to_plot.csv\")\n",
    "\n",
    "tex_annual = pd.read_csv(file_location+\"tex86_ann_nemo_to_plot.csv\")\n",
    "\n",
    "trans_bias = pd.read_csv(file_location + \"nemo_mean_ann_results.csv\")"
   ]
  },
  {
   "cell_type": "code",
   "execution_count": 7,
   "metadata": {},
   "outputs": [],
   "source": [
    "# set the colormap and centre the colorbar\n",
    "class MidpointNormalize(colors.Normalize):\n",
    "    \"\"\"\n",
    "    Normalise the colorbar so that diverging bars work there way either side from a prescribed midpoint value)\n",
    "\n",
    "    e.g. im=ax1.imshow(array, norm=MidpointNormalize(midpoint=0.,vmin=-100, vmax=100))\n",
    "    \"\"\"\n",
    "    def __init__(self, vmin=None, vmax=None, midpoint=None, clip=False):\n",
    "        self.midpoint = midpoint\n",
    "        colors.Normalize.__init__(self, vmin, vmax, clip)\n",
    "\n",
    "    def __call__(self, value, clip=None):\n",
    "        # I'm ignoring masked values and all kinds of edge cases to make a\n",
    "        # simple example...\n",
    "        x, y = [self.vmin, self.midpoint, self.vmax], [0, 0.5, 1]\n",
    "        return np.ma.masked_array(np.interp(value, x, y), np.isnan(value))"
   ]
  },
  {
   "cell_type": "code",
   "execution_count": 24,
   "metadata": {
    "scrolled": true
   },
   "outputs": [],
   "source": [
    "def create_mapfigure(dataframe, df_column, plot_title, temp_range, filename):\n",
    "    \"\"\"\n",
    "    Creates a map of the Mediterranean Sea area and puts some scatter plot data on it. \n",
    "    \n",
    "    Optimized for displaying temperature offsets with the temp_range input list and midpoint \n",
    "    at 0. \n",
    "    \n",
    "    input must be a pandas dataframe with columns named \"Latitude\" and \"Longitude\"\n",
    "    \"\"\"\n",
    "\n",
    "    fig, ax = plt.subplots(subplot_kw={'projection': ccrs.PlateCarree()}, figsize = [4,2])\n",
    "\n",
    "    [temp_min, temp_max]  = temp_range\n",
    "    mid_val = 0.\n",
    "\n",
    "    im = ax.scatter(dataframe[\"Longitude\"],dataframe[\"Latitude\"],\\\n",
    "                transform=ccrs.PlateCarree(), \\\n",
    "                c = dataframe[df_column], \\\n",
    "                cmap = cmocean.cm.balance,\\\n",
    "                clim=(temp_min, temp_max), \\\n",
    "                norm=MidpointNormalize(midpoint=mid_val,\\\n",
    "                                       vmin=temp_min, vmax=temp_max)\\\n",
    "                )\n",
    "    \n",
    "    ax.title.set_text(plot_title)\n",
    "    ax.set_extent([-8,38,30,46])\n",
    "    ax.coastlines()\n",
    "\n",
    "    fig.colorbar(im, ax=ax, orientation = \"horizontal\")\n",
    "    \n",
    "    plt.savefig(figure_location+filename+'.svg')\n"
   ]
  },
  {
   "cell_type": "code",
   "execution_count": 26,
   "metadata": {},
   "outputs": [
    {
     "data": {
      "image/png": "[encoded data removed]",
      "text/plain": [
       "<Figure size 288x144 with 2 Axes>"
      ]
     },
     "metadata": {
      "needs_background": "light"
     },
     "output_type": "display_data"
    }
   ],
   "source": [
    "create_mapfigure(tex_annual, \"proxy_offset_site_sst\", \"TEX86 SST - Site SST\", [-10,10], \"TEX86 proxy offset\")"
   ]
  },
  {
   "cell_type": "code",
   "execution_count": null,
   "metadata": {},
   "outputs": [],
   "source": []
  }
 ],
 "metadata": {
  "kernelspec": {
   "display_name": "Python 3",
   "language": "python",
   "name": "python3"
  },
  "language_info": {
   "codemirror_mode": {
    "name": "ipython",
    "version": 3
   },
   "file_extension": ".py",
   "mimetype": "text/x-python",
   "name": "python",
   "nbconvert_exporter": "python",
   "pygments_lexer": "ipython3",
   "version": "3.6.13"
  }
 },
 "nbformat": 4,
 "nbformat_minor": 4
}
